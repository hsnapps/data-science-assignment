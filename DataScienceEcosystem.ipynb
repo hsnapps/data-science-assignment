{
 "cells": [
  {
   "attachments": {},
   "cell_type": "markdown",
   "metadata": {},
   "source": [
    "<h1>Data Science Tools and Ecosystem</h1>"
   ]
  },
  {
   "attachments": {},
   "cell_type": "markdown",
   "metadata": {},
   "source": [
    "## In this notebook, Data Science Tools and Ecosystem are summarized."
   ]
  },
  {
   "attachments": {},
   "cell_type": "markdown",
   "metadata": {},
   "source": [
    "<b>Objectives:</b>\n",
    "<ul>\n",
    "<li>Some of the popular languages that Data Scientists</li>\n",
    "<li>Some of the commonly used libraries used by Data Scientists</li>\n",
    "<li>Data Science Tools</li>\n",
    "<li>Examples of evaluating arithmetic expressions in Python</li>\n",
    "</ul>"
   ]
  },
  {
   "attachments": {},
   "cell_type": "markdown",
   "metadata": {},
   "source": [
    "### Some of the popular languages that Data Scientists use are:\n",
    "<ol>\n",
    "<li>Python</li>\n",
    "<li>R</li>\n",
    "<li>Julia</li>\n",
    "</ol>"
   ]
  },
  {
   "attachments": {},
   "cell_type": "markdown",
   "metadata": {},
   "source": [
    "### Some of the commonly used libraries used by Data Scientists include:\n",
    "<ol>\n",
    "<li>TensorFlow</li>\n",
    "<li>Matplotlib</li>\n",
    "<li>Pandas</li>\n",
    "<li>Numpy</li>\n",
    "</ol>"
   ]
  },
  {
   "attachments": {},
   "cell_type": "markdown",
   "metadata": {},
   "source": [
    "## Data Science Tools\n",
    "| Tool                   | Description                                                                             |\n",
    "| ---------------------- | --------------------------------------------------------------------------------------- |\n",
    "| Jupyter Notebooks      | Are used in Data Science for recording experiments and projects                         |\n",
    "| Jupyter Lab            | Compatible with many files and Data Science languages                                   |\n",
    "| JupyterLite            | Lightweight tool built from JupyterLab components that executes entirely in the browser |\n",
    "| Google Colaboratory    | Free Jupyter notebook environment that runs entirely in the cloud                       |\n",
    "| Anaconda Navigator     | GUI can launch multiple applications on a local device                                  |"
   ]
  },
  {
   "attachments": {},
   "cell_type": "markdown",
   "metadata": {},
   "source": [
    "<h3>Below are a few examples of evaluating arithmetic expressions in Python</h3>"
   ]
  },
  {
   "cell_type": "code",
   "execution_count": 1,
   "metadata": {},
   "outputs": [
    {
     "data": {
      "text/plain": [
       "17"
      ]
     },
     "execution_count": 1,
     "metadata": {},
     "output_type": "execute_result"
    }
   ],
   "source": [
    "# This a simple arithmetic expression to mutiply then add integers\n",
    "(3*4)+5"
   ]
  },
  {
   "cell_type": "code",
   "execution_count": 2,
   "metadata": {},
   "outputs": [
    {
     "data": {
      "text/plain": [
       "3.3333333333333335"
      ]
     },
     "execution_count": 2,
     "metadata": {},
     "output_type": "execute_result"
    }
   ],
   "source": [
    "# This will convert 200 minutes to hours by diving by 60\n",
    "200 / 60"
   ]
  },
  {
   "attachments": {},
   "cell_type": "markdown",
   "metadata": {},
   "source": [
    "<h2>Author</h2>\n",
    "<h4><a href=\"https://www.linkedin.com/in/hbaabdullah/\">Hassan A. Baabdullah</a></h4>"
   ]
  }
 ],
 "metadata": {
  "kernelspec": {
   "display_name": "Python 3",
   "language": "python",
   "name": "python3"
  },
  "language_info": {
   "codemirror_mode": {
    "name": "ipython",
    "version": 3
   },
   "file_extension": ".py",
   "mimetype": "text/x-python",
   "name": "python",
   "nbconvert_exporter": "python",
   "pygments_lexer": "ipython3",
   "version": "3.10.11"
  },
  "orig_nbformat": 4,
  "vscode": {
   "interpreter": {
    "hash": "056ac80a97c2e476d2adab12a08c1cc0c7b19d274db2ae8320bd6817178b04d7"
   }
  }
 },
 "nbformat": 4,
 "nbformat_minor": 2
}
